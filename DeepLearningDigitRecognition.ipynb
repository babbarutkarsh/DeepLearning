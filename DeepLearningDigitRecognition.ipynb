{
  "nbformat": 4,
  "nbformat_minor": 0,
  "metadata": {
    "colab": {
      "name": "numbers.ipynb",
      "provenance": []
    },
    "kernelspec": {
      "name": "python3",
      "display_name": "Python 3"
    }
  },
  "cells": [
    {
      "cell_type": "code",
      "metadata": {
        "colab": {
          "base_uri": "https://localhost:8080/"
        },
        "id": "Ltpp8Sn6eFJX",
        "outputId": "447ff03f-6a0c-4268-8b4a-5d5965554558"
      },
      "source": [
        "import tensorflow as tf  # deep learning library. Tensors are just multi-dimensional arrays\n",
        "\n",
        "mnist = tf.keras.datasets.mnist  # mnist is a dataset of 28x28 images of handwritten digits and their labels\n",
        "(x_train, y_train),(x_test, y_test) = mnist.load_data()  # unpacks images to x_train/x_test and labels to y_train/y_test\n",
        "\n",
        "x_train = tf.keras.utils.normalize(x_train, axis=1)  # scales data between 0 and 1\n",
        "x_test = tf.keras.utils.normalize(x_test, axis=1)  # scales data between 0 and 1\n",
        "\n",
        "model = tf.keras.models.Sequential()  # a basic feed-forward model\n",
        "model.add(tf.keras.layers.Flatten())  # takes our 28x28 and makes it 1x784\n",
        "model.add(tf.keras.layers.Dense(128, activation=tf.nn.relu))  # a simple fully-connected layer, 128 units, relu activation\n",
        "model.add(tf.keras.layers.Dense(128, activation=tf.nn.relu))  # a simple fully-connected layer, 128 units, relu activation\n",
        "model.add(tf.keras.layers.Dense(10, activation=tf.nn.softmax))  # our output layer. 10 units for 10 classes. Softmax for probability distribution\n",
        "\n",
        "model.compile(optimizer='adam',  # Good default optimizer to start with\n",
        "              loss='sparse_categorical_crossentropy',  # how will we calculate our \"error.\" Neural network aims to minimize loss.\n",
        "              metrics=['accuracy'])  # what to track\n",
        "\n",
        "model.fit(x_train, y_train, epochs=3)  # train the model\n",
        "\n",
        "val_loss, val_acc = model.evaluate(x_test, y_test)  # evaluate the out of sample data with model\n",
        "print(val_loss)  # model's loss (error)\n",
        "print(val_acc)"
      ],
      "execution_count": 19,
      "outputs": [
        {
          "output_type": "stream",
          "text": [
            "Epoch 1/3\n",
            "1875/1875 [==============================] - 5s 2ms/step - loss: 0.4608 - accuracy: 0.8725\n",
            "Epoch 2/3\n",
            "1875/1875 [==============================] - 4s 2ms/step - loss: 0.1117 - accuracy: 0.9659\n",
            "Epoch 3/3\n",
            "1875/1875 [==============================] - 4s 2ms/step - loss: 0.0719 - accuracy: 0.9780\n",
            "313/313 [==============================] - 1s 1ms/step - loss: 0.0900 - accuracy: 0.9711\n",
            "0.09001585841178894\n",
            "0.9710999727249146\n"
          ],
          "name": "stdout"
        }
      ]
    },
    {
      "cell_type": "code",
      "metadata": {
        "colab": {
          "base_uri": "https://localhost:8080/"
        },
        "id": "KNb6uwUtKKAE",
        "outputId": "74091a93-5a88-4f8d-c225-9ed41f06c61c"
      },
      "source": [
        "model.save('num_reader.model')\n",
        "new_model=tf.keras.models.load_model('num_reader.model')"
      ],
      "execution_count": 23,
      "outputs": [
        {
          "output_type": "stream",
          "text": [
            "INFO:tensorflow:Assets written to: num_reader.model/assets\n"
          ],
          "name": "stdout"
        }
      ]
    },
    {
      "cell_type": "code",
      "metadata": {
        "id": "pxKJJXXLLBhd"
      },
      "source": [
        "predictions=new_model.predict([x_test])"
      ],
      "execution_count": 24,
      "outputs": []
    },
    {
      "cell_type": "code",
      "metadata": {
        "colab": {
          "base_uri": "https://localhost:8080/"
        },
        "id": "DCjc-ODDLTIm",
        "outputId": "8e2a3455-76b8-460e-cdf8-e15a502d9727"
      },
      "source": [
        "print(predictions)"
      ],
      "execution_count": 25,
      "outputs": [
        {
          "output_type": "stream",
          "text": [
            "[[2.8594568e-08 7.2491707e-07 6.7571477e-06 ... 9.9949598e-01\n",
            "  1.2106120e-06 1.0424983e-05]\n",
            " [4.1257442e-07 3.8029782e-05 9.9994874e-01 ... 2.8474625e-09\n",
            "  2.0358195e-06 1.1426906e-10]\n",
            " [2.0188588e-06 9.9928099e-01 2.1952270e-05 ... 2.4610729e-04\n",
            "  3.7377881e-04 2.1896050e-05]\n",
            " ...\n",
            " [2.3394371e-09 2.0490170e-07 1.9634848e-08 ... 2.5141526e-05\n",
            "  3.9028942e-06 1.6470754e-03]\n",
            " [4.6502561e-07 2.5565068e-06 1.9254712e-08 ... 6.0579291e-06\n",
            "  1.5903253e-03 5.4506572e-08]\n",
            " [1.5637699e-05 9.6503925e-08 1.0652509e-05 ... 2.9447347e-09\n",
            "  1.1967079e-06 1.0805886e-07]]\n"
          ],
          "name": "stdout"
        }
      ]
    },
    {
      "cell_type": "code",
      "metadata": {
        "colab": {
          "base_uri": "https://localhost:8080/",
          "height": 282
        },
        "id": "4_5Bp_qCLZ1S",
        "outputId": "d11bcdb2-8d2a-4aec-8fad-9d4d32d7ba99"
      },
      "source": [
        "import numpy as np\n",
        "print(np.argmax(predictions[51])) \n",
        "plt.imshow(x_test[51])\n",
        "plt.show()"
      ],
      "execution_count": 30,
      "outputs": [
        {
          "output_type": "stream",
          "text": [
            "3\n"
          ],
          "name": "stdout"
        },
        {
          "output_type": "display_data",
          "data": {
            "image/png": "[encoded data removed]",
            "text/plain": [
              "<Figure size 432x288 with 1 Axes>"
            ]
          },
          "metadata": {
            "tags": [],
            "needs_background": "light"
          }
        }
      ]
    },
    {
      "cell_type": "code",
      "metadata": {
        "id": "6cyvXkiAONoN"
      },
      "source": [
        ""
      ],
      "execution_count": null,
      "outputs": []
    }
  ]
}